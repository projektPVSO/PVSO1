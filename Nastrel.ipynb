{
 "cells": [
  {
   "cell_type": "markdown",
   "metadata": {},
   "source": [
    "# 1. Nastrel"
   ]
  },
  {
   "cell_type": "code",
   "execution_count": 1,
   "metadata": {},
   "outputs": [],
   "source": [
    "import os\n",
    "import cv2\n",
    "import numpy as np\n",
    "import matplotlib.pyplot as plt\n",
    "import math\n",
    "import time\n",
    "import datetime"
   ]
  },
  {
   "cell_type": "markdown",
   "metadata": {},
   "source": [
    "## 1.1 Zaklad"
   ]
  },
  {
   "cell_type": "markdown",
   "metadata": {},
   "source": [
    "#### 1.1.b Citanie Videa"
   ]
  },
  {
   "cell_type": "code",
   "execution_count": 15,
   "metadata": {},
   "outputs": [],
   "source": [
    "cap = cv2.VideoCapture(1) #dataset_dir + 'video1.mp4'\n",
    "\n",
    "while cap.isOpened():\n",
    "    ret, frame = cap.read()\n",
    "    \n",
    "    if ret:\n",
    "        frame = cv2.resize(frame, (0,0), fx=0.5, fy=0.5)\n",
    "        cv2.imshow('video 1', frame)\n",
    "        \n",
    "        if cv2.waitKey(25) == ord('q'):\n",
    "            break\n",
    "    else :\n",
    "        break\n",
    "        \n",
    "cap.release()\n",
    "cv2.destroyAllWindows()"
   ]
  },
  {
   "cell_type": "markdown",
   "metadata": {},
   "source": [
    "## 1.2 Detekcia objektu\n",
    "\n",
    "- Farebna  (range thresholding)\n",
    "- Tvarova (hough circel transform)"
   ]
  },
  {
   "cell_type": "markdown",
   "metadata": {},
   "source": [
    "#### 1.2.a Detekcia objektu na zaklade farby"
   ]
  },
  {
   "cell_type": "markdown",
   "metadata": {},
   "source": [
    "-  `cv2.threshold()` . <br>\n",
    "<img src=\"resource/Binary_Thresh.png\" style=\"width: 500px; margin-top:10px;\" > </img>\n",
    "- `cv2.inRange()`. <br>\n",
    "<img src=\"resource/Range_Thresh.png\" style=\"width: 500px; margin-top:10px;\" > </img>\n",
    "- Pixel.\n",
    "- Metoda `cv2.inRange(img, lower_color, upper_color)`\n",
    "- Parametre :\n",
    "    - `img` : obraz vstup (HSV color space)\n",
    "    - `lower_color` :  (H, S, V)  \n",
    "    - `upper_color` :  (H, S, V) \n",
    "- `H, S, V` rozhranie v OpenCV:\n",
    "    - `H` (0 - 180)\n",
    "    - `S` (0 - 255)\n",
    "    - `V` (0 - 255)\n",
    "- `cv2.inRange()`  **HSV colorspace**,  **hue kanal**  **farebn model**,  **segmentacia objekto na zaklade farby**.<br>\n",
    "-  **RGB colorspace**  **3 kanale** <br>\n",
    "- **HSV colorspace** model : <br>\n"
   ]
  },
  {
   "cell_type": "markdown",
   "metadata": {},
   "source": [
    "#### 1.2.b Zaklad **maskovanie** menggunakan `cv2.bitwise_and()`"
   ]
  },
  {
   "cell_type": "code",
   "execution_count": 5,
   "metadata": {},
   "outputs": [],
   "source": [
    "img = cv2.imread('lena.jpg')\n",
    "\n",
    "mask = np.zeros_like(img[:,:,0])\n",
    "h, w = mask.shape\n",
    "\n",
    "cv2.circle(mask, (h//2, w//2), 150, (255, 255, 255), -1)\n",
    "\n",
    "res = cv2.bitwise_and(img, img, mask=mask)\n",
    "\n",
    "cv2.imshow('frame',img)\n",
    "cv2.imshow('res',res)\n",
    "cv2.imshow('mask',mask)\n",
    "cv2.waitKey(0)\n",
    "cv2.destroyAllWindows()"
   ]
  },
  {
   "cell_type": "markdown",
   "metadata": {},
   "source": [
    "#### 1.2.c Detekcia farieb `'blocks.jpg'`"
   ]
  },
  {
   "cell_type": "code",
   "execution_count": 16,
   "metadata": {},
   "outputs": [],
   "source": [
    "# define range of blue color in HSV\n",
    "lower = np.array([110, 50, 50])\n",
    "upper = np.array([130, 255, 255])\n",
    "\n",
    "img = cv2.imread('blocks.jpg')\n",
    "\n",
    "hsv = cv2.cvtColor(img, cv2.COLOR_BGR2HSV)\n",
    "mask = cv2.inRange(hsv.copy(), lower, upper)\n",
    "res = cv2.bitwise_and(img, img, mask= mask)\n",
    "\n",
    "cv2.imshow('frame',img)\n",
    "cv2.imshow('res',res)\n",
    "cv2.imshow('mask',mask)\n",
    "cv2.waitKey(0)\n",
    "cv2.destroyAllWindows()"
   ]
  },
  {
   "cell_type": "markdown",
   "metadata": {},
   "source": [
    "#### 1.2.d "
   ]
  },
  {
   "cell_type": "code",
   "execution_count": 46,
   "metadata": {},
   "outputs": [],
   "source": [
    "lower = np.array([90, 50, 50])\n",
    "upper = np.array([130, 255, 255])\n",
    "\n",
    "\n",
    "cap = cv2.VideoCapture(1)#dataset_dir + filename\n",
    "\n",
    "while cap.isOpened():\n",
    "    ret, img = cap.read()\n",
    "    \n",
    "    if ret:\n",
    "        hsv = cv2.cvtColor(img, cv2.COLOR_BGR2HSV)\n",
    "        mask = cv2.inRange(hsv.copy(), lower, upper)\n",
    "        res = cv2.bitwise_and(img, img, mask= mask)\n",
    "        \n",
    "        res = cv2.resize(res, (0,0), fx=0.5, fy=0.5)\n",
    "        img = cv2.resize(img, (0,0), fx=0.5, fy=0.5)\n",
    "        \n",
    "        cv2.imshow(\"ano\",res)\n",
    "        cv2.imshow(\"nie\",img)\n",
    "        \n",
    "        \n",
    "        if cv2.waitKey(25) == ord('q'):\n",
    "            break\n",
    "    else :\n",
    "        break\n",
    "        \n",
    "cap.release()\n",
    "cv2.destroyAllWindows()"
   ]
  },
  {
   "cell_type": "markdown",
   "metadata": {},
   "source": [
    "#### 1.2.e Vytvorenie funkcie"
   ]
  },
  {
   "cell_type": "code",
   "execution_count": 22,
   "metadata": {},
   "outputs": [],
   "source": [
    "def detectColor(img, lower, upper): \n",
    "        hsv = cv2.cvtColor(img, cv2.COLOR_BGR2HSV)\n",
    "        mask = cv2.inRange(hsv.copy(), lower, upper)\n",
    "        res = cv2.bitwise_and(img, img, mask= mask)\n",
    "        return res"
   ]
  },
  {
   "cell_type": "code",
   "execution_count": 25,
   "metadata": {},
   "outputs": [],
   "source": [
    "\n",
    "lower = np.array([90, 50, 50])\n",
    "upper = np.array([130, 255, 255])\n",
    "\n",
    "filename = filenames[0]\n",
    "cap = cv2.VideoCapture(1)#dataset_dir + filename\n",
    "\n",
    "while cap.isOpened():\n",
    "    ret, img = cap.read()\n",
    "    \n",
    "    if ret:\n",
    "        res = detectColor(img, lower, upper)\n",
    "        \n",
    "        res = cv2.resize(res, (0,0), fx=0.5, fy=0.5)\n",
    "        img = cv2.resize(img, (0,0), fx=0.5, fy=0.5)\n",
    "        \n",
    "        cv2.imshow(\"ano\",res)\n",
    "        cv2.imshow(\"nie\",img)\n",
    "        if cv2.waitKey(25) == ord('q'):\n",
    "            break\n",
    "    else :\n",
    "        break\n",
    "        \n",
    "cap.release()\n",
    "cv2.destroyAllWindows()"
   ]
  },
  {
   "cell_type": "markdown",
   "metadata": {},
   "source": [
    "#### 1.2.f Pridanie kruhu `cv2.findContour()`"
   ]
  },
  {
   "cell_type": "code",
   "execution_count": 27,
   "metadata": {},
   "outputs": [],
   "source": [
    "lower = np.array([90, 50, 50])\n",
    "upper = np.array([130, 255, 255])\n",
    "\n",
    "\n",
    "cap = cv2.VideoCapture(1)#dataset_dir + filename\n",
    "\n",
    "while cap.isOpened():\n",
    "    ret, img = cap.read()\n",
    "    \n",
    "    if ret:\n",
    "        res = detectColor(img, lower, upper)\n",
    "         \n",
    "        gray = cv2.cvtColor(res, cv2.COLOR_BGR2GRAY)\n",
    "        contours, hierarchy = cv2.findContours(gray, cv2.RETR_EXTERNAL, cv2.CHAIN_APPROX_NONE)\n",
    "        for cnt in contours:\n",
    "            (x,y), radius = cv2.minEnclosingCircle(cnt)\n",
    "            cv2.circle(img, (int(x), int(y)), int(radius), (255, 0, 255), 2)\n",
    "        \n",
    "        res = cv2.resize(res, (0,0), fx=0.5, fy=0.5)\n",
    "        img = cv2.resize(img, (0,0), fx=0.5, fy=0.5)\n",
    "        \n",
    "        cv2.imshow(\"ano\",res)\n",
    "        cv2.imshow(\"nie\",img)\n",
    "        \n",
    "        \n",
    "        if cv2.waitKey(25) == ord('q'):\n",
    "            break\n",
    "    else :\n",
    "        break\n",
    "        \n",
    "cap.release()\n",
    "cv2.destroyAllWindows()"
   ]
  },
  {
   "cell_type": "markdown",
   "metadata": {},
   "source": [
    "#### 1.2.g Odstranenie sumu"
   ]
  },
  {
   "cell_type": "code",
   "execution_count": 31,
   "metadata": {},
   "outputs": [],
   "source": [
    "lower = np.array([90, 50, 50])\n",
    "upper = np.array([130, 255, 255])\n",
    "\n",
    "filename = filenames[0]\n",
    "cap = cv2.VideoCapture(1)#dataset_dir + filename\n",
    "\n",
    "while cap.isOpened():\n",
    "    ret, img = cap.read()\n",
    "    \n",
    "    if ret:\n",
    "        res = detectColor(img, lower, upper)\n",
    "        \n",
    "\n",
    "        gray = cv2.cvtColor(res, cv2.COLOR_BGR2GRAY)\n",
    "        contours, hierarchy = cv2.findContours(gray, cv2.RETR_EXTERNAL, cv2.CHAIN_APPROX_NONE)\n",
    "        for cnt in contours:\n",
    "            (x,y), radius = cv2.minEnclosingCircle(cnt)\n",
    "            if radius > 10: #ak r viac ako 10\n",
    "                cv2.circle(img, (int(x), int(y)), int(radius), (255, 0, 255), 2)\n",
    "        \n",
    "        res = cv2.resize(res, (0,0), fx=0.5, fy=0.5)\n",
    "        img = cv2.resize(img, (0,0), fx=0.5, fy=0.5)\n",
    "        \n",
    "        cv2.imshow(\"ano\",res)\n",
    "        cv2.imshow(\"nie\",img)\n",
    "        \n",
    "        \n",
    "        if cv2.waitKey(25) == ord('q'):\n",
    "            break\n",
    "    else :\n",
    "        break\n",
    "        \n",
    "cap.release()\n",
    "cv2.destroyAllWindows()"
   ]
  },
  {
   "cell_type": "markdown",
   "metadata": {},
   "source": [
    "#### 1.2.h Skatulkovanie"
   ]
  },
  {
   "cell_type": "code",
   "execution_count": 29,
   "metadata": {},
   "outputs": [],
   "source": [
    "def findContourCircle(res): \n",
    "        x, y, r = 0, 0, 0\n",
    "        gray = cv2.cvtColor(res, cv2.COLOR_BGR2GRAY)\n",
    "        contours, hierarchy = cv2.findContours(gray, cv2.RETR_EXTERNAL, cv2.CHAIN_APPROX_NONE)\n",
    "        circle = []\n",
    "        for cnt in contours:\n",
    "            (x,y), radius = cv2.minEnclosingCircle(cnt)\n",
    "            if radius > 10:\n",
    "                circle.append([int(x), int(y), int(radius)])\n",
    "        if len(circle) > 0 :\n",
    "            circle = np.array(circle)\n",
    "            x = int(np.mean(circle[:, 0]))\n",
    "            y = int(np.mean(circle[:, 1]))\n",
    "            r = int(np.mean(circle[:, 2]))\n",
    "        \n",
    "        return x, y, r"
   ]
  },
  {
   "cell_type": "code",
   "execution_count": 30,
   "metadata": {},
   "outputs": [],
   "source": [
    "lower = np.array([95, 50, 50])\n",
    "upper = np.array([130, 255, 255])\n",
    "\n",
    "filename = filenames[0]\n",
    "cap = cv2.VideoCapture(1)#dataset_dir + filename\n",
    "\n",
    "while cap.isOpened():\n",
    "    ret, img = cap.read()\n",
    "    \n",
    "    if ret:\n",
    "        res = detectColor(img, lower, upper)\n",
    "        \n",
    "        x, y, r = findContourCircle(res)\n",
    "        cv2.circle(img, (x, y), r, (255, 0, 255), 2)\n",
    "        \n",
    "        res = cv2.resize(res, (0,0), fx=0.5, fy=0.5)\n",
    "        img = cv2.resize(img, (0,0), fx=0.5, fy=0.5)\n",
    "        \n",
    "        cv2.imshow(\"ano\",res)\n",
    "        cv2.imshow(\"nie\",img)\n",
    "        \n",
    "        \n",
    "        if cv2.waitKey(25) == ord('q'):\n",
    "            break\n",
    "    else :\n",
    "        break\n",
    "        \n",
    "cap.release()\n",
    "cv2.destroyAllWindows()"
   ]
  },
  {
   "cell_type": "markdown",
   "metadata": {},
   "source": [
    "#### 1.2.i Support **multiple color**"
   ]
  },
  {
   "cell_type": "code",
   "execution_count": 41,
   "metadata": {},
   "outputs": [],
   "source": [
    "color_ranges = dict(\n",
    "    blue = dict(\n",
    "        lower = np.array([90, 50, 50]),\n",
    "        upper = np.array([130, 255, 255])\n",
    "    ),\n",
    "    orange = dict(\n",
    "        lower = np.array([10, 50, 50]),\n",
    "        upper = np.array([20, 255, 255])\n",
    "    )\n",
    ")\n",
    "\n",
    "availabel_colors = color_ranges.keys()"
   ]
  },
  {
   "cell_type": "code",
   "execution_count": 39,
   "metadata": {},
   "outputs": [
    {
     "name": "stdout",
     "output_type": "stream",
     "text": [
      "pilih warna [blue/orange] :blue\n"
     ]
    },
    {
     "ename": "TypeError",
     "evalue": "integer argument expected, got float",
     "output_type": "error",
     "traceback": [
      "\u001b[1;31m---------------------------------------------------------------------------\u001b[0m",
      "\u001b[1;31mTypeError\u001b[0m                                 Traceback (most recent call last)",
      "\u001b[1;32m<ipython-input-39-dfaf297dade7>\u001b[0m in \u001b[0;36m<module>\u001b[1;34m\u001b[0m\n\u001b[0;32m     15\u001b[0m \u001b[1;33m\u001b[0m\u001b[0m\n\u001b[0;32m     16\u001b[0m         \u001b[0mx\u001b[0m\u001b[1;33m,\u001b[0m \u001b[0my\u001b[0m\u001b[1;33m,\u001b[0m \u001b[0mr\u001b[0m \u001b[1;33m=\u001b[0m \u001b[0mfindContourCircle\u001b[0m\u001b[1;33m(\u001b[0m\u001b[0mres\u001b[0m\u001b[1;33m)\u001b[0m\u001b[1;33m\u001b[0m\u001b[1;33m\u001b[0m\u001b[0m\n\u001b[1;32m---> 17\u001b[1;33m         \u001b[0mcv2\u001b[0m\u001b[1;33m.\u001b[0m\u001b[0mcircle\u001b[0m\u001b[1;33m(\u001b[0m\u001b[0mimg\u001b[0m\u001b[1;33m,\u001b[0m \u001b[1;33m(\u001b[0m\u001b[0mx\u001b[0m\u001b[1;33m,\u001b[0m \u001b[0my\u001b[0m\u001b[1;33m)\u001b[0m\u001b[1;33m,\u001b[0m \u001b[0mr\u001b[0m\u001b[1;33m,\u001b[0m \u001b[1;33m(\u001b[0m\u001b[1;36m255\u001b[0m\u001b[1;33m,\u001b[0m \u001b[1;36m0\u001b[0m\u001b[1;33m,\u001b[0m \u001b[1;36m255\u001b[0m\u001b[1;33m)\u001b[0m\u001b[1;33m,\u001b[0m \u001b[1;36m2\u001b[0m\u001b[1;33m)\u001b[0m\u001b[1;33m\u001b[0m\u001b[1;33m\u001b[0m\u001b[0m\n\u001b[0m\u001b[0;32m     18\u001b[0m \u001b[1;33m\u001b[0m\u001b[0m\n\u001b[0;32m     19\u001b[0m         \u001b[0mres\u001b[0m \u001b[1;33m=\u001b[0m \u001b[0mcv2\u001b[0m\u001b[1;33m.\u001b[0m\u001b[0mresize\u001b[0m\u001b[1;33m(\u001b[0m\u001b[0mres\u001b[0m\u001b[1;33m,\u001b[0m \u001b[1;33m(\u001b[0m\u001b[1;36m0\u001b[0m\u001b[1;33m,\u001b[0m\u001b[1;36m0\u001b[0m\u001b[1;33m)\u001b[0m\u001b[1;33m,\u001b[0m \u001b[0mfx\u001b[0m\u001b[1;33m=\u001b[0m\u001b[1;36m0.5\u001b[0m\u001b[1;33m,\u001b[0m \u001b[0mfy\u001b[0m\u001b[1;33m=\u001b[0m\u001b[1;36m0.5\u001b[0m\u001b[1;33m)\u001b[0m\u001b[1;33m\u001b[0m\u001b[1;33m\u001b[0m\u001b[0m\n",
      "\u001b[1;31mTypeError\u001b[0m: integer argument expected, got float"
     ]
    }
   ],
   "source": [
    "color_input = input(\"[blue/orange] :\")\n",
    "\n",
    "while color_input not in availabel_colors:\n",
    "    color_input = input(\"%s len toto [blue/orange] :\" % color_input)\n",
    "\n",
    "filename = filenames[1]\n",
    "cap = cv2.VideoCapture(dataset_dir + filename)\n",
    "\n",
    "while cap.isOpened():\n",
    "    ret, img = cap.read()\n",
    "    \n",
    "    if ret:\n",
    "        color = color_ranges[color_input]\n",
    "        res = detectColor(img, color['lower'], color['upper'])\n",
    "        \n",
    "        x, y, r = findContourCircle(res)\n",
    "        cv2.circle(img, (x, y), r, (255, 0, 255), 2)\n",
    "        \n",
    "        res = cv2.resize(res, (0,0), fx=0.5, fy=0.5)\n",
    "        img = cv2.resize(img, (0,0), fx=0.5, fy=0.5)\n",
    "        \n",
    "        cv2.imshow(\"ano\",res)\n",
    "        cv2.imshow(\"nie\",img)\n",
    "        \n",
    "        if cv2.waitKey(25) == ord('q'):\n",
    "            break\n",
    "    else :\n",
    "        break\n",
    "        \n",
    "cap.release()\n",
    "cv2.destroyAllWindows()"
   ]
  },
  {
   "cell_type": "markdown",
   "metadata": {},
   "source": [
    "___\n",
    "___\n",
    "\n",
    "## 1.3 Tvar"
   ]
  },
  {
   "cell_type": "markdown",
   "metadata": {},
   "source": [
    "#### 1.3.a OpenCV Hough Circle Transformacia:\n"
   ]
  },
  {
   "cell_type": "markdown",
   "metadata": {},
   "source": [
    "- menggunakan method `cv2.HoughCircles(img, mode, dp, min_dist_center, param1, param2, min_radius, max_radius)`\n",
    "- with the arguments:\n",
    "    - `img` : input image.\n",
    "    - `mode` : \n",
    "        - `cv2.HOUGH_STANDARD` : Classical or standard Hough transform.\n",
    "        - `cv2.HOUGH_PROBABILISTIC` : Probabilistic Hough transform (more efficient in case if the picture contains a few long linear segments).\n",
    "        - `cv2.HOUGH_MULTI_SCALE` : multi-scale variant of the classical Hough transform. \n",
    "        - `cv2.HOUGH_GRADIENT`\n",
    "    - `dp` : The inverse ratio of resolution (default 1).\n",
    "    - `min_dist_center` : Minimum distance between detected centers.\n",
    "    - `param1` : Upper threshold for the internal Canny edge detector.\n",
    "    - `param2` : Threshold for center detection.\n",
    "    - `min_radius` : Minimum radius to be detected. If unknown, put zero as default.\n",
    "    - `max_radius` : Maximum radius to be detected. If unknown, put zero as default."
   ]
  },
  {
   "cell_type": "markdown",
   "metadata": {},
   "source": [
    "#### 1.3.c Detect circel on Video "
   ]
  },
  {
   "cell_type": "code",
   "execution_count": 33,
   "metadata": {},
   "outputs": [],
   "source": [
    "cap = cv2.VideoCapture(1)#dataset_dir + filename\n",
    "\n",
    "rs = []\n",
    "x, y, r = 0, 0, 0\n",
    "while cap.isOpened():\n",
    "    ret, img = cap.read()\n",
    "    \n",
    "    if ret:\n",
    "        h, w, c = img.shape\n",
    "        gray = cv2.cvtColor(img, cv2.COLOR_BGR2GRAY)\n",
    "\n",
    "        ret, binary = cv2.threshold(gray, 100, 255, cv2.THRESH_BINARY_INV)\n",
    "\n",
    "        edge = cv2.Canny(binary, 100, 200)\n",
    "\n",
    "        circles = cv2.HoughCircles(edge, cv2.HOUGH_GRADIENT, 1, h/64, param1=150, param2=20, minRadius=50, maxRadius=100)\n",
    "        if circles is not None:\n",
    "            circles = np.uint16(np.around(circles))[0]\n",
    "            x = int(np.mean(circles[:, 0]))\n",
    "            y = int(np.mean(circles[:, 1]))\n",
    "            rs.append(np.mean(circles[:, 2]))\n",
    "            r = int(np.mean(rs))\n",
    "            \n",
    "        cv2.circle(img, (x, y), r, (0, 255, 0), 2)\n",
    "\n",
    "        img = cv2.resize(img, (0,0), fx=0.5, fy=0.5)\n",
    "\n",
    "        cv2.imshow(\"nie\",img)\n",
    "        \n",
    "        if cv2.waitKey(25) == ord('q'):\n",
    "            break\n",
    "    else :\n",
    "        break\n",
    "        \n",
    "cap.release()\n",
    "cv2.destroyAllWindows()"
   ]
  },
  {
   "cell_type": "markdown",
   "metadata": {},
   "source": [
    "#### 1.3.c Vo funkcii"
   ]
  },
  {
   "cell_type": "code",
   "execution_count": 34,
   "metadata": {},
   "outputs": [],
   "source": [
    "def findCircelHoug(img):\n",
    "    rs = []\n",
    "    x, y, r = 0, 0, 0\n",
    "    h, w, c = img.shape\n",
    "    gray = cv2.cvtColor(img, cv2.COLOR_BGR2GRAY)\n",
    "\n",
    "    ret, binary = cv2.threshold(gray, 100, 255, cv2.THRESH_BINARY_INV)\n",
    "\n",
    "    edge = cv2.Canny(binary, 100, 200)\n",
    "\n",
    "    circles = cv2.HoughCircles(edge, cv2.HOUGH_GRADIENT, 1, h/64, param1=150, param2=20, minRadius=50, maxRadius=100)\n",
    "    if circles is not None:\n",
    "        circles = np.uint16(np.around(circles))[0]\n",
    "        x = int(np.mean(circles[:, 0]))\n",
    "        y = int(np.mean(circles[:, 1]))\n",
    "        rs.append(np.mean(circles[:, 2]))\n",
    "        r = int(np.mean(rs))\n",
    "    return x, y, r"
   ]
  },
  {
   "cell_type": "code",
   "execution_count": 36,
   "metadata": {},
   "outputs": [],
   "source": [
    "filename = filenames[1]\n",
    "cap = cv2.VideoCapture(1)#dataset_dir + filename\n",
    "\n",
    "while cap.isOpened():\n",
    "    ret, img = cap.read()\n",
    "    if ret:\n",
    "        x, y, r = findCircelHoug(img)\n",
    "        cv2.circle(img, (x, y), r, (0, 255, 0), 2)\n",
    "\n",
    "        img = cv2.resize(img, (0,0), fx=0.5, fy=0.5)\n",
    "        cv2.imshow(\"nie\",img)\n",
    "        \n",
    "        if cv2.waitKey(25) == ord('q'):\n",
    "            break\n",
    "    else :\n",
    "        break\n",
    "        \n",
    "cap.release()\n",
    "cv2.destroyAllWindows()"
   ]
  },
  {
   "cell_type": "markdown",
   "metadata": {},
   "source": [
    "#### 1.3.d Detekcia na kamere"
   ]
  },
  {
   "cell_type": "code",
   "execution_count": 43,
   "metadata": {},
   "outputs": [
    {
     "name": "stdout",
     "output_type": "stream",
     "text": [
      "pilih warna [blue/orange] :blue\n"
     ]
    }
   ],
   "source": [
    "color_input = input(\"[blue/orange] :\")\n",
    "\n",
    "while color_input not in availabel_colors:\n",
    "    color_input = input(\"%s len toto [blue/orange] :\" % color_input)\n",
    "\n",
    "filename = filenames[0]\n",
    "cap = cv2.VideoCapture(1)#dataset_dir + filename\n",
    "\n",
    "while cap.isOpened():\n",
    "    ret, img = cap.read()\n",
    "    \n",
    "    if ret:\n",
    "        color = color_ranges[color_input]\n",
    "        res = detectColor(img, color['lower'], color['upper'])\n",
    "        \n",
    "        x, y, r = findCircelHoug(res)\n",
    "        cv2.circle(img, (x, y), r, (0, 255, 0), 2)\n",
    "            \n",
    "        img = cv2.resize(img, (0,0), fx=0.5, fy=0.5)\n",
    "        res = cv2.resize(res, (0,0), fx=0.5, fy=0.5)\n",
    "        \n",
    "        cv2.imshow(filename, img)\n",
    "        cv2.imshow(filename + \" - res\", res)\n",
    "        \n",
    "        if cv2.waitKey(25) == ord('q'):\n",
    "            break\n",
    "    else :\n",
    "        break\n",
    "        \n",
    "cap.release()\n",
    "cv2.destroyAllWindows()"
   ]
  },
  {
   "cell_type": "code",
   "execution_count": null,
   "metadata": {},
   "outputs": [],
   "source": []
  }
 ],
 "metadata": {
  "kernelspec": {
   "display_name": "Python 3",
   "language": "python",
   "name": "python3"
  },
  "language_info": {
   "codemirror_mode": {
    "name": "ipython",
    "version": 3
   },
   "file_extension": ".py",
   "mimetype": "text/x-python",
   "name": "python",
   "nbconvert_exporter": "python",
   "pygments_lexer": "ipython3",
   "version": "3.8.5"
  }
 },
 "nbformat": 4,
 "nbformat_minor": 4
}
